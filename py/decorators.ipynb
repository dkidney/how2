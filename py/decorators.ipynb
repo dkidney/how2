{
 "cells": [
  {
   "cell_type": "markdown",
   "metadata": {},
   "source": [
    "# decorators"
   ]
  },
  {
   "cell_type": "markdown",
   "metadata": {},
   "source": [
    "```\n",
    "import functools\n",
    "\n",
    "def a_decorator(func):\n",
    "    @functools.wraps(func)\n",
    "    def wrapper_decorator(*args, **kwargs):\n",
    "        # Do something before\n",
    "        value = func(*args, **kwargs)\n",
    "        # Do something after\n",
    "        return value\n",
    "    return wrapper_decorator\n",
    "\n",
    "@a_decorator    \n",
    "def a_function():\n",
    "    pass\n",
    "    \n",
    "a_function()\n",
    "```"
   ]
  },
  {
   "cell_type": "markdown",
   "metadata": {},
   "source": [
    "## timeit"
   ]
  },
  {
   "cell_type": "code",
   "execution_count": 1,
   "metadata": {},
   "outputs": [
    {
     "name": "stdout",
     "output_type": "stream",
     "text": [
      "Finished 'waste_some_time' in 0.0946 secs\n"
     ]
    }
   ],
   "source": [
    "import functools\n",
    "import time\n",
    "\n",
    "def timeit(func):\n",
    "    \"\"\"Print the runtime of the decorated function\"\"\"\n",
    "    @functools.wraps(func)\n",
    "    def wrapper_timer(*args, **kwargs):\n",
    "        start_time = time.perf_counter()\n",
    "        value = func(*args, **kwargs)\n",
    "        run_time = time.perf_counter() - start_time\n",
    "        print(f\"Finished {func.__name__!r} in {run_time:.4f} secs\")\n",
    "        return value\n",
    "    return wrapper_timer\n",
    "\n",
    "@timeit\n",
    "def waste_some_time(num_times):\n",
    "    for _ in range(num_times):\n",
    "        sum([i**2 for i in range(10000)])\n",
    "\n",
    "waste_some_time(10)"
   ]
  },
  {
   "cell_type": "markdown",
   "metadata": {},
   "source": [
    "## debug"
   ]
  },
  {
   "cell_type": "code",
   "execution_count": 2,
   "metadata": {},
   "outputs": [
    {
     "name": "stdout",
     "output_type": "stream",
     "text": [
      "Calling waste_some_time(10)\n",
      "'waste_some_time' returned None\n"
     ]
    }
   ],
   "source": [
    "import functools\n",
    "\n",
    "def debug(func):\n",
    "    \"\"\"Print the function signature and return value\"\"\"\n",
    "    @functools.wraps(func)\n",
    "    def wrapper_debug(*args, **kwargs):\n",
    "        args_repr = [repr(a) for a in args]\n",
    "        kwargs_repr = [f\"{k}={v!r}\" for k, v in kwargs.items()] \n",
    "        signature = \", \".join(args_repr + kwargs_repr)\n",
    "        print(f\"Calling {func.__name__}({signature})\")\n",
    "        value = func(*args, **kwargs)\n",
    "        print(f\"{func.__name__!r} returned {value!r}\")\n",
    "        return value\n",
    "    return wrapper_debug\n",
    "    \n",
    "@debug\n",
    "def waste_some_time(num_times):\n",
    "    for _ in range(num_times):\n",
    "        sum([i**2 for i in range(10000)])\n",
    "\n",
    "waste_some_time(10)"
   ]
  },
  {
   "cell_type": "markdown",
   "metadata": {},
   "source": []
  }
 ],
 "metadata": {
  "kernelspec": {
   "display_name": ".venv",
   "language": "python",
   "name": "python3"
  },
  "language_info": {
   "codemirror_mode": {
    "name": "ipython",
    "version": 3
   },
   "file_extension": ".py",
   "mimetype": "text/x-python",
   "name": "python",
   "nbconvert_exporter": "python",
   "pygments_lexer": "ipython3",
   "version": "3.8.19"
  }
 },
 "nbformat": 4,
 "nbformat_minor": 2
}
