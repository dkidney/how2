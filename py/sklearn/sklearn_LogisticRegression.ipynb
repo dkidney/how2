{
 "cells": [
  {
   "cell_type": "markdown",
   "id": "374d52c5-edeb-48ac-be88-d53753dfcfca",
   "metadata": {},
   "source": [
    "# sklearn: LogisticRegression"
   ]
  },
  {
   "cell_type": "code",
   "execution_count": 2,
   "id": "9aab9328-b15e-48d9-ae53-8a3fe1c6e546",
   "metadata": {},
   "outputs": [],
   "source": [
    "from sklearn.datasets import load_iris\n",
    "from sklearn.linear_model import LogisticRegression\n",
    "X, y = load_iris(return_X_y=True)"
   ]
  },
  {
   "cell_type": "code",
   "execution_count": 23,
   "id": "317d00eb",
   "metadata": {},
   "outputs": [
    {
     "name": "stdout",
     "output_type": "stream",
     "text": [
      "[  6.69040651   5.58615272 -14.43121671]\n",
      "[[-0.44501376  0.89999242 -2.32353827 -0.97345836]\n",
      " [-0.1792787  -2.12866718  0.69665417 -1.27480129]\n",
      " [-0.39444787 -0.5133412   2.93087523  2.41709879]]\n"
     ]
    }
   ],
   "source": [
    "lr_ovr = LogisticRegression(multi_class='ovr')\n",
    "lr_ovr.fit(X=X, y=y)\n",
    "print(lr_ovr.intercept_)\n",
    "print(lr_ovr.coef_)\n"
   ]
  },
  {
   "cell_type": "code",
   "execution_count": 9,
   "id": "91eab7cb",
   "metadata": {},
   "outputs": [
    {
     "name": "stdout",
     "output_type": "stream",
     "text": [
      "[4.12316458 3.76217112 4.26352618 3.75332066 4.25766519]\n",
      "[0.89680757 0.77897939 0.83486418 0.79000199 0.9120504 ]\n"
     ]
    }
   ],
   "source": [
    "print(lr_ovr.decision_function(X)[:5, 0])\n",
    "print(lr_ovr.predict_proba(X)[:5, 0])"
   ]
  },
  {
   "cell_type": "code",
   "execution_count": 22,
   "id": "856f5acf",
   "metadata": {},
   "outputs": [
    {
     "name": "stdout",
     "output_type": "stream",
     "text": [
      "[4.12316458 3.76217112 4.26352618 3.75332066 4.25766519]\n",
      "[0.89680757 0.77897939 0.83486418 0.79000199 0.9120504 ]\n"
     ]
    }
   ],
   "source": [
    "import numpy as np\n",
    "\n",
    "# manual preds on linear predictor scale\n",
    "def predict_link_manual(features, model):\n",
    "    X = features\n",
    "    alpha = model.intercept_\n",
    "    beta = model.coef_\n",
    "    assert beta.shape[0] == len(alpha)\n",
    "    assert beta.shape[1] == X.shape[1]\n",
    "    preds_list = [alpha[i] + np.matmul(X, beta[i, :])\n",
    "                  for i in range(len(alpha))]\n",
    "    return np.array(preds_list).T\n",
    "\n",
    "\n",
    "# manual preds on probability scale\n",
    "def softmax(preds):\n",
    "    inv_logit_preds_T = 1 / (1 + np.exp(-preds.T))\n",
    "    probs = inv_logit_preds_T / sum(inv_logit_preds_T)\n",
    "    return probs.T\n",
    "\n",
    "\n",
    "print(predict_link_manual(X, lr_ovr)[:5, 0])\n",
    "print(softmax(predict_link_manual(X, lr_ovr))[:5, 0])"
   ]
  },
  {
   "cell_type": "markdown",
   "id": "16525247",
   "metadata": {},
   "source": [
    "## StandardScaler + GridSearchCV"
   ]
  },
  {
   "cell_type": "code",
   "execution_count": 69,
   "id": "3cceddcd",
   "metadata": {},
   "outputs": [
    {
     "name": "stdout",
     "output_type": "stream",
     "text": [
      "X_train shape: (75, 4)\n",
      "y_train shape: (75,)\n",
      "X_test shape: (75, 4)\n",
      "y_test shape: (75,)\n",
      "{'lr__C': 10}\n",
      "Pipeline(steps=[('lr', LogisticRegression(C=10, multi_class='ovr'))])\n",
      "0.96\n",
      "0.9866666666666667\n",
      "[1.         0.95833333 1.        ]\n",
      "0.9866666666666667\n"
     ]
    }
   ],
   "source": [
    "from sklearn.model_selection import GridSearchCV\n",
    "from sklearn.model_selection import train_test_split\n",
    "from sklearn.metrics import accuracy_score, precision_score\n",
    "from sklearn.pipeline import Pipeline\n",
    "from sklearn.preprocessing import StandardScaler\n",
    "\n",
    "X_train, X_test, y_train, y_test = train_test_split(X, y, test_size=0.5, random_state=42)\n",
    "\n",
    "print(\"X_train shape: {}\".format(X_train.shape)) \n",
    "print(\"y_train shape: {}\".format(y_train.shape))\n",
    "print(\"X_test shape: {}\".format(X_test.shape)) \n",
    "print(\"y_test shape: {}\".format(y_test.shape))\n",
    "\n",
    "lr = LogisticRegression(\n",
    "    multi_class='ovr',\n",
    "    penalty='l2',\n",
    "    intercept_scaling=1, \n",
    "    dual=False, \n",
    "    fit_intercept=True,\n",
    "    tol=0.0001,\n",
    ")\n",
    "\n",
    "steps = [\n",
    "   ('scaler', StandardScaler()),\n",
    "    ('lr', lr),\n",
    "]\n",
    "\n",
    "pipeline = Pipeline(steps)\n",
    "\n",
    "param_grid = [\n",
    "#    {'solver': ['newton-cg', 'lbfgs', 'liblinear', 'sag', 'saga']},\n",
    "#    {'solver': ['newton-cg', 'liblinear', 'sag', 'saga']},\n",
    "#    {'penalty': ['l1','l2']}, \n",
    "    {'lr__C': [0.01, 0.1, 1, 10, 100, 1000]},\n",
    "]\n",
    "\n",
    "cv = GridSearchCV(\n",
    "    estimator=pipeline,  \n",
    "    param_grid=param_grid,\n",
    "    scoring='accuracy',\n",
    "    cv=3,\n",
    "    refit=True,\n",
    "    verbose=0,\n",
    "    n_jobs=1,\n",
    ")\n",
    "\n",
    "cv.fit(X_train, y_train)\n",
    "\n",
    "print(cv.best_params_)\n",
    "clf = cv.best_estimator_\n",
    "print(clf)\n",
    "print(clf.score(X_train, y_train))\n",
    "print(clf.score(X_test, y_test)) # *\n",
    "y_pred = clf.predict(X_test)\n",
    "print(precision_score(y_test, y_pred, average=None)) # precision for each class\n",
    "print(accuracy_score(y_test, y_pred))  # same as *"
   ]
  },
  {
   "cell_type": "code",
   "execution_count": null,
   "id": "7d20bda6",
   "metadata": {},
   "outputs": [],
   "source": []
  }
 ],
 "metadata": {
  "kernelspec": {
   "display_name": ".venv",
   "language": "python",
   "name": "python3"
  },
  "language_info": {
   "codemirror_mode": {
    "name": "ipython",
    "version": 3
   },
   "file_extension": ".py",
   "mimetype": "text/x-python",
   "name": "python",
   "nbconvert_exporter": "python",
   "pygments_lexer": "ipython3",
   "version": "3.11.9"
  }
 },
 "nbformat": 4,
 "nbformat_minor": 5
}
