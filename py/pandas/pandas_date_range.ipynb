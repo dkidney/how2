{
 "cells": [
  {
   "cell_type": "code",
   "execution_count": 1,
   "metadata": {},
   "outputs": [],
   "source": [
    "import pandas as pd"
   ]
  },
  {
   "cell_type": "code",
   "execution_count": 26,
   "metadata": {},
   "outputs": [
    {
     "data": {
      "text/plain": [
       "DatetimeIndex(['2025-01-01', '2025-01-02', '2025-01-03', '2025-01-04',\n",
       "               '2025-01-05', '2025-01-06', '2025-01-07', '2025-01-08',\n",
       "               '2025-01-09', '2025-01-10',\n",
       "               ...\n",
       "               '2025-12-22', '2025-12-23', '2025-12-24', '2025-12-25',\n",
       "               '2025-12-26', '2025-12-27', '2025-12-28', '2025-12-29',\n",
       "               '2025-12-30', '2025-12-31'],\n",
       "              dtype='datetime64[ns]', length=365, freq='D')"
      ]
     },
     "execution_count": 26,
     "metadata": {},
     "output_type": "execute_result"
    }
   ],
   "source": [
    "pd.date_range(start='2025-01-01', end='2025-12-31')"
   ]
  },
  {
   "cell_type": "code",
   "execution_count": 27,
   "metadata": {},
   "outputs": [
    {
     "data": {
      "text/plain": [
       "DatetimeIndex(['2025-01-01 00:00:00', '2025-02-10 10:40:00',\n",
       "               '2025-03-22 21:20:00', '2025-05-02 08:00:00',\n",
       "               '2025-06-11 18:40:00', '2025-07-22 05:20:00',\n",
       "               '2025-08-31 16:00:00', '2025-10-11 02:40:00',\n",
       "               '2025-11-20 13:20:00', '2025-12-31 00:00:00'],\n",
       "              dtype='datetime64[ns]', freq=None)"
      ]
     },
     "execution_count": 27,
     "metadata": {},
     "output_type": "execute_result"
    }
   ],
   "source": [
    "pd.date_range(start='2025-01-01', end='2025-12-31', periods=10)"
   ]
  },
  {
   "cell_type": "code",
   "execution_count": 28,
   "metadata": {},
   "outputs": [
    {
     "data": {
      "text/plain": [
       "Index([2025-01-01, 2025-02-10, 2025-03-22, 2025-05-02, 2025-06-11, 2025-07-22,\n",
       "       2025-08-31, 2025-10-11, 2025-11-20, 2025-12-31],\n",
       "      dtype='object')"
      ]
     },
     "execution_count": 28,
     "metadata": {},
     "output_type": "execute_result"
    }
   ],
   "source": [
    "pd.date_range(start='2025-01-01', end='2025-12-31', periods=10).map(lambda x: x.date())"
   ]
  },
  {
   "cell_type": "code",
   "execution_count": 29,
   "metadata": {},
   "outputs": [
    {
     "data": {
      "text/plain": [
       "Index([2025-01-01, 2025-01-31, 2025-03-02, 2025-04-01, 2025-05-01, 2025-05-31,\n",
       "       2025-06-30, 2025-07-30, 2025-08-29, 2025-09-28, 2025-10-28, 2025-11-27,\n",
       "       2025-12-27],\n",
       "      dtype='object')"
      ]
     },
     "execution_count": 29,
     "metadata": {},
     "output_type": "execute_result"
    }
   ],
   "source": [
    "pd.date_range(start='2025-01-01', end='2025-12-31', freq='30D').map(lambda x: x.date())"
   ]
  },
  {
   "cell_type": "code",
   "execution_count": 10,
   "metadata": {},
   "outputs": [
    {
     "data": {
      "text/plain": [
       "['2025-12-31',\n",
       " '2025-12-01',\n",
       " '2025-11-01',\n",
       " '2025-10-02',\n",
       " '2025-09-02',\n",
       " '2025-08-03',\n",
       " '2025-07-04',\n",
       " '2025-06-04',\n",
       " '2025-05-05',\n",
       " '2025-04-05',\n",
       " '2025-03-06',\n",
       " '2025-02-04',\n",
       " '2025-01-05']"
      ]
     },
     "execution_count": 10,
     "metadata": {},
     "output_type": "execute_result"
    }
   ],
   "source": [
    "# create a list of dates at 30 day intervals\n",
    "import datetime as dt\n",
    "end_date = '2025-12-31'\n",
    "start_date = (dt.datetime.strptime(end_date, '%Y-%m-%d') - dt.timedelta(360)).strftime('%Y-%m-%d')\n",
    "intervals = pd.date_range(start=end_date, end=start_date, freq='-30D')\n",
    "intervals = [str(x.date()) for x in intervals]\n",
    "intervals"
   ]
  },
  {
   "cell_type": "code",
   "execution_count": 11,
   "metadata": {},
   "outputs": [
    {
     "name": "stdout",
     "output_type": "stream",
     "text": [
      "0: date > 2025-12-01 and date <= 2025-12-31\n",
      "1: date > 2025-11-01 and date <= 2025-12-01\n",
      "2: date > 2025-10-02 and date <= 2025-11-01\n",
      "3: date > 2025-09-02 and date <= 2025-10-02\n",
      "4: date > 2025-08-03 and date <= 2025-09-02\n",
      "5: date > 2025-07-04 and date <= 2025-08-03\n",
      "6: date > 2025-06-04 and date <= 2025-07-04\n",
      "7: date > 2025-05-05 and date <= 2025-06-04\n",
      "8: date > 2025-04-05 and date <= 2025-05-05\n",
      "9: date > 2025-03-06 and date <= 2025-04-05\n",
      "10: date > 2025-02-04 and date <= 2025-03-06\n",
      "11: date > 2025-01-05 and date <= 2025-02-04\n"
     ]
    }
   ],
   "source": [
    "# convert to list of intervals - e.g. for chunking \n",
    "chunks = list(zip(intervals[1:], intervals[:-1]))\n",
    "for i, x in enumerate(chunks):\n",
    "    chunk_start = x[0]\n",
    "    chunk_end = x[1]\n",
    "    print(f'{i}: date > {chunk_start} and date <= {chunk_end}')\n"
   ]
  },
  {
   "cell_type": "code",
   "execution_count": null,
   "metadata": {},
   "outputs": [],
   "source": []
  }
 ],
 "metadata": {
  "kernelspec": {
   "display_name": ".venv",
   "language": "python",
   "name": "python3"
  },
  "language_info": {
   "codemirror_mode": {
    "name": "ipython",
    "version": 3
   },
   "file_extension": ".py",
   "mimetype": "text/x-python",
   "name": "python",
   "nbconvert_exporter": "python",
   "pygments_lexer": "ipython3",
   "version": "3.11.9"
  }
 },
 "nbformat": 4,
 "nbformat_minor": 2
}
