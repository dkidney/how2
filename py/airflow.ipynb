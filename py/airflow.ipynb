{
 "cells": [
  {
   "cell_type": "markdown",
   "metadata": {},
   "source": [
    "# airflow"
   ]
  },
  {
   "cell_type": "markdown",
   "metadata": {},
   "source": [
    "## xcom"
   ]
  },
  {
   "cell_type": "markdown",
   "metadata": {},
   "source": [
    "General use case:\n",
    "\n",
    "```py\n",
    "context['ti'].xcom_push(key='some_key', value=some_value)\n",
    "some_value = context['ti'].xcom_pull(task_ids='some_task_id', key='some_key'')\n",
    "```"
   ]
  },
  {
   "cell_type": "markdown",
   "metadata": {},
   "source": [
    "Pandas DataFrame:\n",
    "\n",
    "```py\n",
    "import io\n",
    "import pandas as pd\n",
    "\n",
    "context['ti'].xcom_push(key='some_key', value=df.to_json())\n",
    "df = pd.read_json(io.StringIO(context['ti'].xcom_pull(task_ids='some_task_id', key='some_key')))\n",
    "```"
   ]
  },
  {
   "cell_type": "markdown",
   "metadata": {},
   "source": []
  }
 ],
 "metadata": {
  "language_info": {
   "name": "python"
  }
 },
 "nbformat": 4,
 "nbformat_minor": 2
}
