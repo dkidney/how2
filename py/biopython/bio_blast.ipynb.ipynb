{
 "cells": [
  {
   "cell_type": "markdown",
   "metadata": {},
   "source": [
    "## Blast"
   ]
  },
  {
   "cell_type": "code",
   "execution_count": 2,
   "metadata": {},
   "outputs": [],
   "source": [
    "from Bio.Blast import NCBIWWW, NCBIXML\n",
    "\n",
    "dna='TGGGCCTCATATTTATCCTATATACCATGTTCGTATGGTGGCGCGATGTTCTACGTGAATCCACGTTCGAAGGACATCATACCAAAGTCGTACAATTAGGACCTCGATATGGTTTTATTCTGTTTATCGTATCGGAGGTTATGTTCTTTTTTGCTCTTTTTCGGGCTTCTTCTCATTCTTCTTTGGCACCTACGGTAGAG'"
   ]
  },
  {
   "cell_type": "code",
   "execution_count": null,
   "metadata": {},
   "outputs": [],
   "source": [
    "result_handle = NCBIWWW.qblast('blastn', 'nt', dna)\n",
    "blast_record = NCBIXML.read(result_handle)"
   ]
  },
  {
   "cell_type": "code",
   "execution_count": null,
   "metadata": {},
   "outputs": [],
   "source": [
    "len(blast_record.alignments)"
   ]
  },
  {
   "cell_type": "code",
   "execution_count": null,
   "metadata": {},
   "outputs": [],
   "source": [
    "E_VALUE_THRESH = 0.001\n",
    "for alignment in blast_record.alignments:\n",
    "    for hsp in alignment.hsps:\n",
    "        if hsp.expect < E_VALUE_THRESH:\n",
    "            print()\n",
    "            print('****ALIGNMENT****')\n",
    "            print('sequence', alignment.title)\n",
    "            print('length', alignment.length)\n",
    "            print('e value', hsp.expect)\n",
    "            print(hsp.query)\n",
    "            print(hsp.match)\n",
    "            print(hsp.sbjct)"
   ]
  },
  {
   "cell_type": "markdown",
   "metadata": {},
   "source": [
    "```\n",
    "****ALIGNMENT****\n",
    "sequence gi|1883211523|gb|MT122969.1| Solanum aethiopicum isolate NN17 mitochondrion, complete genome\n",
    "length 566665\n",
    "e value 1.47765e-95\n",
    "TGGGCCTCATATTTATCCTATATACCATGTTCGTATGGTGGCGCGATGTTCTACGTGAATCCACGTTCGAAGGAC...\n",
    "|||||||||||||||||||||||||||||||||||||||||||||||||||||||||||||||||||||||||||...\n",
    "TGGGCCTCATATTTATCCTATATACCATGTTCGTATGGTGGCGCGATGTTCTACGTGAATCCACGTTCGAAGGAC...\n",
    "\n",
    "...\n",
    "```"
   ]
  }
 ],
 "metadata": {
  "kernelspec": {
   "display_name": ".venv",
   "language": "python",
   "name": "python3"
  },
  "language_info": {
   "codemirror_mode": {
    "name": "ipython",
    "version": 3
   },
   "file_extension": ".py",
   "mimetype": "text/x-python",
   "name": "python",
   "nbconvert_exporter": "python",
   "pygments_lexer": "ipython3",
   "version": "3.11.11"
  }
 },
 "nbformat": 4,
 "nbformat_minor": 2
}
