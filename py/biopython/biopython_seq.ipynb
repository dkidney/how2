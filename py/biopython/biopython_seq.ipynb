{
 "cells": [
  {
   "cell_type": "markdown",
   "metadata": {},
   "source": [
    "# Seq"
   ]
  },
  {
   "cell_type": "code",
   "execution_count": 1,
   "metadata": {},
   "outputs": [],
   "source": [
    "from Bio.Seq import Seq"
   ]
  },
  {
   "cell_type": "markdown",
   "metadata": {},
   "source": [
    "`Seq` objects are built on strings but have additional methdods."
   ]
  },
  {
   "cell_type": "code",
   "execution_count": 2,
   "metadata": {},
   "outputs": [
    {
     "data": {
      "text/plain": [
       "Seq('ATGGCCATTGTAATGGGCCGCTGAAAGGGTGCCCGATAG')"
      ]
     },
     "execution_count": 2,
     "metadata": {},
     "output_type": "execute_result"
    }
   ],
   "source": [
    "coding_dna = Seq(\"ATGGCCATTGTAATGGGCCGCTGAAAGGGTGCCCGATAG\")\n",
    "coding_dna"
   ]
  },
  {
   "cell_type": "code",
   "execution_count": 3,
   "metadata": {},
   "outputs": [
    {
     "name": "stdout",
     "output_type": "stream",
     "text": [
      "   coding dna: ATGGCCATTGTAATGGGCCGCTGAAAGGGTGCCCGATAG\n",
      " template dna: CTATCGGGCACCCTTTCAGCGGCCCATTACAATGGCCAT\n",
      "messenger rna: AUGGCCAUUGUAAUGGGCCGCUGAAAGGGUGCCCGAUAG\n",
      "      protein: MAIVMGR*KGAR*\n"
     ]
    }
   ],
   "source": [
    "print(f'   coding dna: {coding_dna}')\n",
    "\n",
    "template_dna = coding_dna.reverse_complement()\n",
    "print(f' template dna: {template_dna}')\n",
    "\n",
    "messenger_rna = coding_dna.transcribe()\n",
    "print(f'messenger rna: {messenger_rna}')\n",
    "\n",
    "protein = messenger_rna.translate()\n",
    "print(f'      protein: {protein}')"
   ]
  },
  {
   "cell_type": "code",
   "execution_count": 4,
   "metadata": {},
   "outputs": [
    {
     "name": "stdout",
     "output_type": "stream",
     "text": [
      "MAIVMGR*KGAR*\n",
      "ATGGCCATTGTAATGGGCCGCTGAAAGGGTGCCCGATAG\n"
     ]
    }
   ],
   "source": [
    "# can also get protein direct from coding dna\n",
    "print(coding_dna.translate())\n",
    "\n",
    "# can also recover coding dna from mRNA\n",
    "print(messenger_rna.back_transcribe())"
   ]
  },
  {
   "cell_type": "markdown",
   "metadata": {},
   "source": [
    "## Translation tables\n",
    "\n",
    "https://www.ncbi.nlm.nih.gov/Taxonomy/Utils/wprintgc.cgi"
   ]
  },
  {
   "cell_type": "code",
   "execution_count": 11,
   "metadata": {},
   "outputs": [
    {
     "name": "stdout",
     "output_type": "stream",
     "text": [
      "MAIVMGRWKGAR*\n",
      "MAIVMGR*KGAR*\n",
      "MAIVMGRWKGAR*\n",
      "MAIVMGR\n",
      "MAIVMGRWKGAR\n",
      "MAIVMGRWKGAR\n"
     ]
    }
   ],
   "source": [
    "# other options for translate\n",
    "print(coding_dna.translate(table=\"Vertebrate Mitochondrial\"))\n",
    "print(coding_dna.translate(table=\"Bacterial\"))\n",
    "print(coding_dna.translate(table=2))\n",
    "print(coding_dna.translate(to_stop=True))\n",
    "print(coding_dna.translate(table=\"Vertebrate Mitochondrial\", to_stop=True))\n",
    "print(coding_dna.translate(table=2, to_stop=True))"
   ]
  },
  {
   "cell_type": "markdown",
   "metadata": {},
   "source": [
    "# SeqUtils"
   ]
  },
  {
   "cell_type": "code",
   "execution_count": 6,
   "metadata": {},
   "outputs": [
    {
     "data": {
      "text/plain": [
       "0.5641025641025641"
      ]
     },
     "execution_count": 6,
     "metadata": {},
     "output_type": "execute_result"
    }
   ],
   "source": [
    "from Bio.SeqUtils import gc_fraction\n",
    "\n",
    "gc_fraction(coding_dna)"
   ]
  },
  {
   "cell_type": "code",
   "execution_count": null,
   "metadata": {},
   "outputs": [],
   "source": []
  },
  {
   "cell_type": "markdown",
   "metadata": {},
   "source": []
  }
 ],
 "metadata": {
  "kernelspec": {
   "display_name": ".venv",
   "language": "python",
   "name": "python3"
  },
  "language_info": {
   "codemirror_mode": {
    "name": "ipython",
    "version": 3
   },
   "file_extension": ".py",
   "mimetype": "text/x-python",
   "name": "python",
   "nbconvert_exporter": "python",
   "pygments_lexer": "ipython3",
   "version": "3.11.11"
  }
 },
 "nbformat": 4,
 "nbformat_minor": 2
}
