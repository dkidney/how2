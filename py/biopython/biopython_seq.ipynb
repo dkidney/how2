{
 "cells": [
  {
   "cell_type": "markdown",
   "metadata": {},
   "source": [
    "# Seq"
   ]
  },
  {
   "cell_type": "code",
   "execution_count": 37,
   "metadata": {},
   "outputs": [
    {
     "data": {
      "text/plain": [
       "Seq('ATGGCCATTGTAATGGGCCGCTGAAAGGGTGCCCGATAG')"
      ]
     },
     "execution_count": 37,
     "metadata": {},
     "output_type": "execute_result"
    }
   ],
   "source": [
    "from Bio.Seq import Seq\n",
    "\n",
    "coding_dna = Seq(\"ATGGCCATTGTAATGGGCCGCTGAAAGGGTGCCCGATAG\")\n",
    "coding_dna"
   ]
  },
  {
   "cell_type": "markdown",
   "metadata": {},
   "source": [
    "`Seq` objects are built on strings but have additional methdods."
   ]
  },
  {
   "cell_type": "code",
   "execution_count": 38,
   "metadata": {},
   "outputs": [
    {
     "name": "stdout",
     "output_type": "stream",
     "text": [
      "   coding dna: ATGGCCATTGTAATGGGCCGCTGAAAGGGTGCCCGATAG\n",
      " template dna: CTATCGGGCACCCTTTCAGCGGCCCATTACAATGGCCAT\n",
      "messenger rna: AUGGCCAUUGUAAUGGGCCGCUGAAAGGGUGCCCGAUAG\n",
      "      protein: MAIVMGR*KGAR*\n"
     ]
    }
   ],
   "source": [
    "print(f'   coding dna: {coding_dna}')\n",
    "\n",
    "template_dna = coding_dna.reverse_complement()\n",
    "print(f' template dna: {template_dna}')\n",
    "\n",
    "messenger_rna = coding_dna.transcribe()\n",
    "print(f'messenger rna: {messenger_rna}')\n",
    "\n",
    "protein = messenger_rna.translate()\n",
    "print(f'      protein: {protein}')"
   ]
  },
  {
   "cell_type": "code",
   "execution_count": 39,
   "metadata": {},
   "outputs": [
    {
     "name": "stdout",
     "output_type": "stream",
     "text": [
      "MAIVMGR*KGAR*\n",
      "ATGGCCATTGTAATGGGCCGCTGAAAGGGTGCCCGATAG\n"
     ]
    }
   ],
   "source": [
    "# can also get protein direct from coding dna\n",
    "print(coding_dna.translate())\n",
    "\n",
    "# can also recover coding dna from mRNA\n",
    "print(messenger_rna.back_transcribe())"
   ]
  },
  {
   "cell_type": "markdown",
   "metadata": {},
   "source": [
    "## Translation tables\n",
    "\n",
    "https://www.ncbi.nlm.nih.gov/Taxonomy/Utils/wprintgc.cgi"
   ]
  },
  {
   "cell_type": "code",
   "execution_count": 40,
   "metadata": {},
   "outputs": [
    {
     "name": "stdout",
     "output_type": "stream",
     "text": [
      "MAIVMGRWKGAR*\n",
      "MAIVMGR*KGAR*\n",
      "MAIVMGRWKGAR*\n",
      "MAIVMGR\n",
      "MAIVMGRWKGAR\n",
      "MAIVMGRWKGAR\n"
     ]
    }
   ],
   "source": [
    "# other options for translate\n",
    "print(coding_dna.translate(table=\"Vertebrate Mitochondrial\"))\n",
    "print(coding_dna.translate(table=\"Bacterial\"))\n",
    "print(coding_dna.translate(table=2))\n",
    "print(coding_dna.translate(to_stop=True))\n",
    "print(coding_dna.translate(table=\"Vertebrate Mitochondrial\", to_stop=True))\n",
    "print(coding_dna.translate(table=2, to_stop=True))"
   ]
  },
  {
   "cell_type": "code",
   "execution_count": 41,
   "metadata": {},
   "outputs": [
    {
     "name": "stdout",
     "output_type": "stream",
     "text": [
      "['TTG', 'CTG', 'ATG']\n",
      "['TAA', 'TAG', 'TGA']\n",
      "\n",
      "Table 1 Standard, SGC0\n",
      "\n",
      "  |  T      |  C      |  A      |  G      |\n",
      "--+---------+---------+---------+---------+--\n",
      "T | TTT F   | TCT S   | TAT Y   | TGT C   | T\n",
      "T | TTC F   | TCC S   | TAC Y   | TGC C   | C\n",
      "T | TTA L   | TCA S   | TAA Stop| TGA Stop| A\n",
      "T | TTG L(s)| TCG S   | TAG Stop| TGG W   | G\n",
      "--+---------+---------+---------+---------+--\n",
      "C | CTT L   | CCT P   | CAT H   | CGT R   | T\n",
      "C | CTC L   | CCC P   | CAC H   | CGC R   | C\n",
      "C | CTA L   | CCA P   | CAA Q   | CGA R   | A\n",
      "C | CTG L(s)| CCG P   | CAG Q   | CGG R   | G\n",
      "--+---------+---------+---------+---------+--\n",
      "A | ATT I   | ACT T   | AAT N   | AGT S   | T\n",
      "A | ATC I   | ACC T   | AAC N   | AGC S   | C\n",
      "A | ATA I   | ACA T   | AAA K   | AGA R   | A\n",
      "A | ATG M(s)| ACG T   | AAG K   | AGG R   | G\n",
      "--+---------+---------+---------+---------+--\n",
      "G | GTT V   | GCT A   | GAT D   | GGT G   | T\n",
      "G | GTC V   | GCC A   | GAC D   | GGC G   | C\n",
      "G | GTA V   | GCA A   | GAA E   | GGA G   | A\n",
      "G | GTG V   | GCG A   | GAG E   | GGG G   | G\n",
      "--+---------+---------+---------+---------+--\n"
     ]
    }
   ],
   "source": [
    "from Bio.Data import CodonTable\n",
    "\n",
    "standard_table = CodonTable.unambiguous_dna_by_name[\"Standard\"]\n",
    "\n",
    "print(standard_table.start_codons)\n",
    "print(standard_table.stop_codons)\n",
    "print()\n",
    "print(standard_table)"
   ]
  },
  {
   "cell_type": "markdown",
   "metadata": {},
   "source": [
    "## Subsequences"
   ]
  },
  {
   "cell_type": "code",
   "execution_count": 49,
   "metadata": {},
   "outputs": [
    {
     "name": "stdout",
     "output_type": "stream",
     "text": [
      "4\n",
      "4\n",
      "32\n",
      "3\n",
      "[(4, 'CC'), (17, 'CC'), (31, 'CC'), (32, 'CC')]\n"
     ]
    }
   ],
   "source": [
    "# standard string methods\n",
    "print(coding_dna.index(\"CC\")) # index of first occurrence (error if no match)\n",
    "print(coding_dna.find(\"CC\")) # index of first occurrence (-1 if no match)\n",
    "print(coding_dna.rfind(\"CC\")) # index of last occurrence (-1 if no match)\n",
    "print(coding_dna.count('CC')) # non-overlapping counts\n",
    "\n",
    "# additional methods\n",
    "print(list(coding_dna.search([\"CC\"]))) # indexes of all matches (incl overlapping) in multiple substrings"
   ]
  },
  {
   "cell_type": "markdown",
   "metadata": {},
   "source": [
    "## Nucleotide distibution"
   ]
  },
  {
   "cell_type": "code",
   "execution_count": 52,
   "metadata": {},
   "outputs": [
    {
     "data": {
      "text/plain": [
       "{'A': 9, 'T': 8, 'C': 8, 'G': 14}"
      ]
     },
     "execution_count": 52,
     "metadata": {},
     "output_type": "execute_result"
    }
   ],
   "source": [
    "nucleotide_counts = {n: coding_dna.count(n) for n in ['A', 'T', 'C', 'G']}\n",
    "nucleotide_counts"
   ]
  },
  {
   "cell_type": "code",
   "execution_count": 56,
   "metadata": {},
   "outputs": [
    {
     "data": {
      "image/png": "[encoded data removed]",
      "text/plain": [
       "<Figure size 640x480 with 1 Axes>"
      ]
     },
     "metadata": {},
     "output_type": "display_data"
    }
   ],
   "source": [
    "import matplotlib.pyplot as plt\n",
    "plt.bar(nucleotide_counts.keys(),\n",
    "        nucleotide_counts.values(),\n",
    "        width=0.5,\n",
    "        color=['b', 'r', 'm', 'c'])\n",
    "plt.xlabel('nucleotide')\n",
    "plt.ylabel('count')\n",
    "plt.title('nucleotide counts')\n",
    "plt.show()"
   ]
  },
  {
   "cell_type": "code",
   "execution_count": null,
   "metadata": {},
   "outputs": [],
   "source": []
  }
 ],
 "metadata": {
  "kernelspec": {
   "display_name": ".venv",
   "language": "python",
   "name": "python3"
  },
  "language_info": {
   "codemirror_mode": {
    "name": "ipython",
    "version": 3
   },
   "file_extension": ".py",
   "mimetype": "text/x-python",
   "name": "python",
   "nbconvert_exporter": "python",
   "pygments_lexer": "ipython3",
   "version": "3.11.11"
  }
 },
 "nbformat": 4,
 "nbformat_minor": 2
}
